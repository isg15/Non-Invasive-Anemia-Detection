{
  "cells": [
    {
      "cell_type": "markdown",
      "metadata": {
        "id": "view-in-github",
        "colab_type": "text"
      },
      "source": [
        "<a href=\"https://colab.research.google.com/github/isg15/Non-Invasive-Anemia-Detection/blob/main/Code.ipynb\" target=\"_parent\"><img src=\"https://colab.research.google.com/assets/colab-badge.svg\" alt=\"Open In Colab\"/></a>"
      ]
    },
    {
      "cell_type": "code",
      "execution_count": null,
      "metadata": {
        "id": "Ju6-vrcqil39"
      },
      "outputs": [],
      "source": [
        "import tensorflow\n",
        "import keras\n",
        "import os\n",
        "from skimage import io\n",
        "import numpy as np\n",
        "import pandas as pd\n",
        "import csv\n",
        "import cv2\n",
        "from google.colab.patches import cv2_imshow\n",
        "from sklearn.model_selection import train_test_split\n",
        "import matplotlib.pyplot as plt\n",
        "import math"
      ]
    },
    {
      "cell_type": "code",
      "execution_count": null,
      "metadata": {
        "colab": {
          "base_uri": "https://localhost:8080/"
        },
        "id": "vPWXVkHqYEKi",
        "outputId": "08bbeea7-629b-4988-c855-a2bad6b10b60"
      },
      "outputs": [
        {
          "output_type": "stream",
          "name": "stdout",
          "text": [
            "Drive already mounted at /content/drive; to attempt to forcibly remount, call drive.mount(\"/content/drive\", force_remount=True).\n"
          ]
        }
      ],
      "source": [
        "from google.colab import drive\n",
        "drive.mount('/content/drive')"
      ]
    },
    {
      "cell_type": "code",
      "execution_count": null,
      "metadata": {
        "colab": {
          "base_uri": "https://localhost:8080/",
          "height": 206
        },
        "id": "xAi8qQCJSyeF",
        "outputId": "2bc075a0-67da-4815-b32d-edb7721f319c"
      },
      "outputs": [
        {
          "output_type": "execute_result",
          "data": {
            "text/plain": [
              "   Image number Study number  Haemoglobin  Palpebral Conjunctiva EI (LX5)  \\\n",
              "0             1         002B          121                          26.033   \n",
              "1             2         003C          131                          20.077   \n",
              "2             3         004D          134                          15.672   \n",
              "3             4         005E           84                          19.757   \n",
              "4             5         006F          110                          17.512   \n",
              "\n",
              "     Duplicated/example? Clinican 1 Clinican 2 Clinican 3   \\\n",
              "0  Duplicated (Image 14)         No         No          No   \n",
              "1                    NaN        Yes         No          No   \n",
              "2                    NaN        Yes         No         Yes   \n",
              "3                    NaN        Yes        Yes          No   \n",
              "4                    NaN         No         No          No   \n",
              "\n",
              "                                                 Key  Unnamed: 9  Unnamed: 10  \n",
              "0  Where yes indicates suspicion of anaemia and n...         NaN          NaN  \n",
              "1                                                NaN         NaN          NaN  \n",
              "2                                                NaN         NaN          NaN  \n",
              "3                                                NaN         NaN          NaN  \n",
              "4       Duplicated entries are italicised and shaded         NaN          NaN  "
            ],
            "text/html": [
              "\n",
              "  <div id=\"df-3365070f-b486-4a5e-a9f7-d0f101ca5586\">\n",
              "    <div class=\"colab-df-container\">\n",
              "      <div>\n",
              "<style scoped>\n",
              "    .dataframe tbody tr th:only-of-type {\n",
              "        vertical-align: middle;\n",
              "    }\n",
              "\n",
              "    .dataframe tbody tr th {\n",
              "        vertical-align: top;\n",
              "    }\n",
              "\n",
              "    .dataframe thead th {\n",
              "        text-align: right;\n",
              "    }\n",
              "</style>\n",
              "<table border=\"1\" class=\"dataframe\">\n",
              "  <thead>\n",
              "    <tr style=\"text-align: right;\">\n",
              "      <th></th>\n",
              "      <th>Image number</th>\n",
              "      <th>Study number</th>\n",
              "      <th>Haemoglobin</th>\n",
              "      <th>Palpebral Conjunctiva EI (LX5)</th>\n",
              "      <th>Duplicated/example?</th>\n",
              "      <th>Clinican 1</th>\n",
              "      <th>Clinican 2</th>\n",
              "      <th>Clinican 3</th>\n",
              "      <th>Key</th>\n",
              "      <th>Unnamed: 9</th>\n",
              "      <th>Unnamed: 10</th>\n",
              "    </tr>\n",
              "  </thead>\n",
              "  <tbody>\n",
              "    <tr>\n",
              "      <th>0</th>\n",
              "      <td>1</td>\n",
              "      <td>002B</td>\n",
              "      <td>121</td>\n",
              "      <td>26.033</td>\n",
              "      <td>Duplicated (Image 14)</td>\n",
              "      <td>No</td>\n",
              "      <td>No</td>\n",
              "      <td>No</td>\n",
              "      <td>Where yes indicates suspicion of anaemia and n...</td>\n",
              "      <td>NaN</td>\n",
              "      <td>NaN</td>\n",
              "    </tr>\n",
              "    <tr>\n",
              "      <th>1</th>\n",
              "      <td>2</td>\n",
              "      <td>003C</td>\n",
              "      <td>131</td>\n",
              "      <td>20.077</td>\n",
              "      <td>NaN</td>\n",
              "      <td>Yes</td>\n",
              "      <td>No</td>\n",
              "      <td>No</td>\n",
              "      <td>NaN</td>\n",
              "      <td>NaN</td>\n",
              "      <td>NaN</td>\n",
              "    </tr>\n",
              "    <tr>\n",
              "      <th>2</th>\n",
              "      <td>3</td>\n",
              "      <td>004D</td>\n",
              "      <td>134</td>\n",
              "      <td>15.672</td>\n",
              "      <td>NaN</td>\n",
              "      <td>Yes</td>\n",
              "      <td>No</td>\n",
              "      <td>Yes</td>\n",
              "      <td>NaN</td>\n",
              "      <td>NaN</td>\n",
              "      <td>NaN</td>\n",
              "    </tr>\n",
              "    <tr>\n",
              "      <th>3</th>\n",
              "      <td>4</td>\n",
              "      <td>005E</td>\n",
              "      <td>84</td>\n",
              "      <td>19.757</td>\n",
              "      <td>NaN</td>\n",
              "      <td>Yes</td>\n",
              "      <td>Yes</td>\n",
              "      <td>No</td>\n",
              "      <td>NaN</td>\n",
              "      <td>NaN</td>\n",
              "      <td>NaN</td>\n",
              "    </tr>\n",
              "    <tr>\n",
              "      <th>4</th>\n",
              "      <td>5</td>\n",
              "      <td>006F</td>\n",
              "      <td>110</td>\n",
              "      <td>17.512</td>\n",
              "      <td>NaN</td>\n",
              "      <td>No</td>\n",
              "      <td>No</td>\n",
              "      <td>No</td>\n",
              "      <td>Duplicated entries are italicised and shaded</td>\n",
              "      <td>NaN</td>\n",
              "      <td>NaN</td>\n",
              "    </tr>\n",
              "  </tbody>\n",
              "</table>\n",
              "</div>\n",
              "      <button class=\"colab-df-convert\" onclick=\"convertToInteractive('df-3365070f-b486-4a5e-a9f7-d0f101ca5586')\"\n",
              "              title=\"Convert this dataframe to an interactive table.\"\n",
              "              style=\"display:none;\">\n",
              "        \n",
              "  <svg xmlns=\"http://www.w3.org/2000/svg\" height=\"24px\"viewBox=\"0 0 24 24\"\n",
              "       width=\"24px\">\n",
              "    <path d=\"M0 0h24v24H0V0z\" fill=\"none\"/>\n",
              "    <path d=\"M18.56 5.44l.94 2.06.94-2.06 2.06-.94-2.06-.94-.94-2.06-.94 2.06-2.06.94zm-11 1L8.5 8.5l.94-2.06 2.06-.94-2.06-.94L8.5 2.5l-.94 2.06-2.06.94zm10 10l.94 2.06.94-2.06 2.06-.94-2.06-.94-.94-2.06-.94 2.06-2.06.94z\"/><path d=\"M17.41 7.96l-1.37-1.37c-.4-.4-.92-.59-1.43-.59-.52 0-1.04.2-1.43.59L10.3 9.45l-7.72 7.72c-.78.78-.78 2.05 0 2.83L4 21.41c.39.39.9.59 1.41.59.51 0 1.02-.2 1.41-.59l7.78-7.78 2.81-2.81c.8-.78.8-2.07 0-2.86zM5.41 20L4 18.59l7.72-7.72 1.47 1.35L5.41 20z\"/>\n",
              "  </svg>\n",
              "      </button>\n",
              "      \n",
              "  <style>\n",
              "    .colab-df-container {\n",
              "      display:flex;\n",
              "      flex-wrap:wrap;\n",
              "      gap: 12px;\n",
              "    }\n",
              "\n",
              "    .colab-df-convert {\n",
              "      background-color: #E8F0FE;\n",
              "      border: none;\n",
              "      border-radius: 50%;\n",
              "      cursor: pointer;\n",
              "      display: none;\n",
              "      fill: #1967D2;\n",
              "      height: 32px;\n",
              "      padding: 0 0 0 0;\n",
              "      width: 32px;\n",
              "    }\n",
              "\n",
              "    .colab-df-convert:hover {\n",
              "      background-color: #E2EBFA;\n",
              "      box-shadow: 0px 1px 2px rgba(60, 64, 67, 0.3), 0px 1px 3px 1px rgba(60, 64, 67, 0.15);\n",
              "      fill: #174EA6;\n",
              "    }\n",
              "\n",
              "    [theme=dark] .colab-df-convert {\n",
              "      background-color: #3B4455;\n",
              "      fill: #D2E3FC;\n",
              "    }\n",
              "\n",
              "    [theme=dark] .colab-df-convert:hover {\n",
              "      background-color: #434B5C;\n",
              "      box-shadow: 0px 1px 3px 1px rgba(0, 0, 0, 0.15);\n",
              "      filter: drop-shadow(0px 1px 2px rgba(0, 0, 0, 0.3));\n",
              "      fill: #FFFFFF;\n",
              "    }\n",
              "  </style>\n",
              "\n",
              "      <script>\n",
              "        const buttonEl =\n",
              "          document.querySelector('#df-3365070f-b486-4a5e-a9f7-d0f101ca5586 button.colab-df-convert');\n",
              "        buttonEl.style.display =\n",
              "          google.colab.kernel.accessAllowed ? 'block' : 'none';\n",
              "\n",
              "        async function convertToInteractive(key) {\n",
              "          const element = document.querySelector('#df-3365070f-b486-4a5e-a9f7-d0f101ca5586');\n",
              "          const dataTable =\n",
              "            await google.colab.kernel.invokeFunction('convertToInteractive',\n",
              "                                                     [key], {});\n",
              "          if (!dataTable) return;\n",
              "\n",
              "          const docLinkHtml = 'Like what you see? Visit the ' +\n",
              "            '<a target=\"_blank\" href=https://colab.research.google.com/notebooks/data_table.ipynb>data table notebook</a>'\n",
              "            + ' to learn more about interactive tables.';\n",
              "          element.innerHTML = '';\n",
              "          dataTable['output_type'] = 'display_data';\n",
              "          await google.colab.output.renderOutput(dataTable, element);\n",
              "          const docLink = document.createElement('div');\n",
              "          docLink.innerHTML = docLinkHtml;\n",
              "          element.appendChild(docLink);\n",
              "        }\n",
              "      </script>\n",
              "    </div>\n",
              "  </div>\n",
              "  "
            ]
          },
          "metadata": {},
          "execution_count": 3
        }
      ],
      "source": [
        "dataset=pd.read_csv(\"drive/MyDrive/Detection of anemia using conjunctival images.csv\")\n",
        "dataset.head()\n"
      ]
    },
    {
      "cell_type": "code",
      "execution_count": null,
      "metadata": {
        "colab": {
          "base_uri": "https://localhost:8080/",
          "height": 1000
        },
        "id": "5jksWbHEjI-n",
        "outputId": "49101073-a9a0-4307-f6f2-64386f24000e"
      },
      "outputs": [
        {
          "output_type": "display_data",
          "data": {
            "text/plain": [
              "<PIL.Image.Image image mode=RGB size=67x69 at 0x7FB126553ED0>"
            ],
            "image/png": "[encoded data removed]"
          },
          "metadata": {}
        },
        {
          "output_type": "stream",
          "name": "stdout",
          "text": [
            "[[[  0   0   0]\n",
            "  [  0   0   0]\n",
            "  [  0   0   0]\n",
            "  ...\n",
            "  [ 68  77 117]\n",
            "  [ 66  76 115]\n",
            "  [  0   0   0]]\n",
            "\n",
            " [[  0   0   0]\n",
            "  [  0   0   0]\n",
            "  [  0   0   0]\n",
            "  ...\n",
            "  [ 64  74 115]\n",
            "  [ 63  73 114]\n",
            "  [ 60  71 111]]\n",
            "\n",
            " [[  0   0   0]\n",
            "  [  0   0   0]\n",
            "  [  0   0   0]\n",
            "  ...\n",
            "  [ 64  74 117]\n",
            "  [ 63  73 116]\n",
            "  [ 68  68 119]]\n",
            "\n",
            " ...\n",
            "\n",
            " [[  0   0   0]\n",
            "  [  0   0   0]\n",
            "  [  0   0   0]\n",
            "  ...\n",
            "  [  0   0   0]\n",
            "  [  0   0   0]\n",
            "  [  0   0   0]]\n",
            "\n",
            " [[  0   0   0]\n",
            "  [  0   0   0]\n",
            "  [  0   0   0]\n",
            "  ...\n",
            "  [  0   0   0]\n",
            "  [  0   0   0]\n",
            "  [  0   0   0]]\n",
            "\n",
            " [[  0   0   0]\n",
            "  [  0   0   0]\n",
            "  [  0   0   0]\n",
            "  ...\n",
            "  [  0   0   0]\n",
            "  [  0   0   0]\n",
            "  [  0   0   0]]]\n"
          ]
        },
        {
          "output_type": "display_data",
          "data": {
            "text/plain": [
              "<PIL.Image.Image image mode=RGB size=67x69 at 0x7FB12659EED0>"
            ],
            "image/png": "[encoded data removed]"
          },
          "metadata": {}
        }
      ],
      "source": [
        "myImg = cv2.imread(\"drive/MyDrive/Fingernails/Fingernails/Non-Anrmic-FN-195.png\")\n",
        "#print(myImg)\n",
        "cv2_imshow(myImg)\n",
        "print(myImg)\n",
        "cv2_imshow(cv2.cvtColor(myImg, cv2.COLOR_BGR2RGB))"
      ]
    },
    {
      "cell_type": "code",
      "execution_count": null,
      "metadata": {
        "colab": {
          "base_uri": "https://localhost:8080/",
          "height": 265
        },
        "id": "yIbl4BZmt3-9",
        "outputId": "ceae2d5a-02f0-4eee-ae86-d9f9d506f5f5"
      },
      "outputs": [
        {
          "output_type": "display_data",
          "data": {
            "text/plain": [
              "<Figure size 432x288 with 1 Axes>"
            ],
            "image/png": "[encoded data removed]"
          },
          "metadata": {
            "needs_background": "light"
          }
        }
      ],
      "source": [
        "plt.hist(cv2.cvtColor(myImg, cv2.COLOR_BGR2RGB).ravel(),bins = 256, range = [0,256])\n",
        "plt.show()"
      ]
    },
    {
      "cell_type": "code",
      "execution_count": null,
      "metadata": {
        "colab": {
          "base_uri": "https://localhost:8080/",
          "height": 282
        },
        "id": "lX3n4k8VvVUr",
        "outputId": "b4b6561c-64f4-43e3-c69c-62795640e5da"
      },
      "outputs": [
        {
          "output_type": "execute_result",
          "data": {
            "text/plain": [
              "<matplotlib.contour.QuadContourSet at 0x7fb125c3b150>"
            ]
          },
          "metadata": {},
          "execution_count": 6
        },
        {
          "output_type": "display_data",
          "data": {
            "text/plain": [
              "<Figure size 432x288 with 1 Axes>"
            ],
            "image/png": "[encoded data removed]"
          },
          "metadata": {
            "needs_background": "light"
          }
        }
      ],
      "source": [
        "plt.contour(cv2.cvtColor(myImg, cv2.COLOR_BGR2RGB)[0], origin = \"image\")"
      ]
    },
    {
      "cell_type": "code",
      "execution_count": null,
      "metadata": {
        "colab": {
          "base_uri": "https://localhost:8080/",
          "height": 206
        },
        "id": "fFDe_xEG5dSe",
        "outputId": "1eec8e36-acb0-4ec2-9f8c-7395f14ac76b"
      },
      "outputs": [
        {
          "output_type": "execute_result",
          "data": {
            "text/plain": [
              "   Haemoglobin  Palpebral Conjunctiva EI (LX5) Clinican 1 Clinican 2  \\\n",
              "0          121                          26.033         No         No   \n",
              "1          131                          20.077        Yes         No   \n",
              "2          134                          15.672        Yes         No   \n",
              "3           84                          19.757        Yes        Yes   \n",
              "4          110                          17.512         No         No   \n",
              "\n",
              "  Clinican 3   \n",
              "0          No  \n",
              "1          No  \n",
              "2         Yes  \n",
              "3          No  \n",
              "4          No  "
            ],
            "text/html": [
              "\n",
              "  <div id=\"df-57493664-0a14-4562-b4f7-55486c9d8aa7\">\n",
              "    <div class=\"colab-df-container\">\n",
              "      <div>\n",
              "<style scoped>\n",
              "    .dataframe tbody tr th:only-of-type {\n",
              "        vertical-align: middle;\n",
              "    }\n",
              "\n",
              "    .dataframe tbody tr th {\n",
              "        vertical-align: top;\n",
              "    }\n",
              "\n",
              "    .dataframe thead th {\n",
              "        text-align: right;\n",
              "    }\n",
              "</style>\n",
              "<table border=\"1\" class=\"dataframe\">\n",
              "  <thead>\n",
              "    <tr style=\"text-align: right;\">\n",
              "      <th></th>\n",
              "      <th>Haemoglobin</th>\n",
              "      <th>Palpebral Conjunctiva EI (LX5)</th>\n",
              "      <th>Clinican 1</th>\n",
              "      <th>Clinican 2</th>\n",
              "      <th>Clinican 3</th>\n",
              "    </tr>\n",
              "  </thead>\n",
              "  <tbody>\n",
              "    <tr>\n",
              "      <th>0</th>\n",
              "      <td>121</td>\n",
              "      <td>26.033</td>\n",
              "      <td>No</td>\n",
              "      <td>No</td>\n",
              "      <td>No</td>\n",
              "    </tr>\n",
              "    <tr>\n",
              "      <th>1</th>\n",
              "      <td>131</td>\n",
              "      <td>20.077</td>\n",
              "      <td>Yes</td>\n",
              "      <td>No</td>\n",
              "      <td>No</td>\n",
              "    </tr>\n",
              "    <tr>\n",
              "      <th>2</th>\n",
              "      <td>134</td>\n",
              "      <td>15.672</td>\n",
              "      <td>Yes</td>\n",
              "      <td>No</td>\n",
              "      <td>Yes</td>\n",
              "    </tr>\n",
              "    <tr>\n",
              "      <th>3</th>\n",
              "      <td>84</td>\n",
              "      <td>19.757</td>\n",
              "      <td>Yes</td>\n",
              "      <td>Yes</td>\n",
              "      <td>No</td>\n",
              "    </tr>\n",
              "    <tr>\n",
              "      <th>4</th>\n",
              "      <td>110</td>\n",
              "      <td>17.512</td>\n",
              "      <td>No</td>\n",
              "      <td>No</td>\n",
              "      <td>No</td>\n",
              "    </tr>\n",
              "  </tbody>\n",
              "</table>\n",
              "</div>\n",
              "      <button class=\"colab-df-convert\" onclick=\"convertToInteractive('df-57493664-0a14-4562-b4f7-55486c9d8aa7')\"\n",
              "              title=\"Convert this dataframe to an interactive table.\"\n",
              "              style=\"display:none;\">\n",
              "        \n",
              "  <svg xmlns=\"http://www.w3.org/2000/svg\" height=\"24px\"viewBox=\"0 0 24 24\"\n",
              "       width=\"24px\">\n",
              "    <path d=\"M0 0h24v24H0V0z\" fill=\"none\"/>\n",
              "    <path d=\"M18.56 5.44l.94 2.06.94-2.06 2.06-.94-2.06-.94-.94-2.06-.94 2.06-2.06.94zm-11 1L8.5 8.5l.94-2.06 2.06-.94-2.06-.94L8.5 2.5l-.94 2.06-2.06.94zm10 10l.94 2.06.94-2.06 2.06-.94-2.06-.94-.94-2.06-.94 2.06-2.06.94z\"/><path d=\"M17.41 7.96l-1.37-1.37c-.4-.4-.92-.59-1.43-.59-.52 0-1.04.2-1.43.59L10.3 9.45l-7.72 7.72c-.78.78-.78 2.05 0 2.83L4 21.41c.39.39.9.59 1.41.59.51 0 1.02-.2 1.41-.59l7.78-7.78 2.81-2.81c.8-.78.8-2.07 0-2.86zM5.41 20L4 18.59l7.72-7.72 1.47 1.35L5.41 20z\"/>\n",
              "  </svg>\n",
              "      </button>\n",
              "      \n",
              "  <style>\n",
              "    .colab-df-container {\n",
              "      display:flex;\n",
              "      flex-wrap:wrap;\n",
              "      gap: 12px;\n",
              "    }\n",
              "\n",
              "    .colab-df-convert {\n",
              "      background-color: #E8F0FE;\n",
              "      border: none;\n",
              "      border-radius: 50%;\n",
              "      cursor: pointer;\n",
              "      display: none;\n",
              "      fill: #1967D2;\n",
              "      height: 32px;\n",
              "      padding: 0 0 0 0;\n",
              "      width: 32px;\n",
              "    }\n",
              "\n",
              "    .colab-df-convert:hover {\n",
              "      background-color: #E2EBFA;\n",
              "      box-shadow: 0px 1px 2px rgba(60, 64, 67, 0.3), 0px 1px 3px 1px rgba(60, 64, 67, 0.15);\n",
              "      fill: #174EA6;\n",
              "    }\n",
              "\n",
              "    [theme=dark] .colab-df-convert {\n",
              "      background-color: #3B4455;\n",
              "      fill: #D2E3FC;\n",
              "    }\n",
              "\n",
              "    [theme=dark] .colab-df-convert:hover {\n",
              "      background-color: #434B5C;\n",
              "      box-shadow: 0px 1px 3px 1px rgba(0, 0, 0, 0.15);\n",
              "      filter: drop-shadow(0px 1px 2px rgba(0, 0, 0, 0.3));\n",
              "      fill: #FFFFFF;\n",
              "    }\n",
              "  </style>\n",
              "\n",
              "      <script>\n",
              "        const buttonEl =\n",
              "          document.querySelector('#df-57493664-0a14-4562-b4f7-55486c9d8aa7 button.colab-df-convert');\n",
              "        buttonEl.style.display =\n",
              "          google.colab.kernel.accessAllowed ? 'block' : 'none';\n",
              "\n",
              "        async function convertToInteractive(key) {\n",
              "          const element = document.querySelector('#df-57493664-0a14-4562-b4f7-55486c9d8aa7');\n",
              "          const dataTable =\n",
              "            await google.colab.kernel.invokeFunction('convertToInteractive',\n",
              "                                                     [key], {});\n",
              "          if (!dataTable) return;\n",
              "\n",
              "          const docLinkHtml = 'Like what you see? Visit the ' +\n",
              "            '<a target=\"_blank\" href=https://colab.research.google.com/notebooks/data_table.ipynb>data table notebook</a>'\n",
              "            + ' to learn more about interactive tables.';\n",
              "          element.innerHTML = '';\n",
              "          dataTable['output_type'] = 'display_data';\n",
              "          await google.colab.output.renderOutput(dataTable, element);\n",
              "          const docLink = document.createElement('div');\n",
              "          docLink.innerHTML = docLinkHtml;\n",
              "          element.appendChild(docLink);\n",
              "        }\n",
              "      </script>\n",
              "    </div>\n",
              "  </div>\n",
              "  "
            ]
          },
          "metadata": {},
          "execution_count": 7
        }
      ],
      "source": [
        "datasetmod1=dataset.iloc[:,:8]\n",
        "del datasetmod1['Study number']\n",
        "del datasetmod1['Image number']\n",
        "del datasetmod1['Duplicated/example?']\n",
        "datasetmod1.head()"
      ]
    },
    {
      "cell_type": "code",
      "execution_count": null,
      "metadata": {
        "colab": {
          "base_uri": "https://localhost:8080/"
        },
        "id": "XDVX4urbIu1G",
        "outputId": "667c1c62-1b76-4801-a7eb-f31ab009396e"
      },
      "outputs": [
        {
          "output_type": "stream",
          "name": "stdout",
          "text": [
            "Index(['Haemoglobin', 'Palpebral Conjunctiva EI (LX5)', 'Clinican 1',\n",
            "       'Clinican 2', 'Clinican 3 '],\n",
            "      dtype='object')\n"
          ]
        }
      ],
      "source": [
        "print(datasetmod1.keys())"
      ]
    },
    {
      "cell_type": "code",
      "execution_count": null,
      "metadata": {
        "id": "S4Jgqu0eHqdZ"
      },
      "outputs": [],
      "source": [
        "new=[]\n",
        "for i in range(len(datasetmod1)):\n",
        "  if datasetmod1['Clinican 1'][i]==\"Yes\" and datasetmod1['Clinican 2'][i]==\"Yes\" and datasetmod1['Clinican 3 '][i]==\"Yes\":\n",
        "    new.append('Yes')\n",
        "  elif datasetmod1['Clinican 1'][i]==\"Yes\" and datasetmod1['Clinican 2'][i]==\"Yes\" and datasetmod1['Clinican 3 '][i]!=\"Yes\":\n",
        "    new.append('Yes')\n",
        "  elif datasetmod1['Clinican 1'][i]==\"Yes\" and datasetmod1['Clinican 2'][i]!=\"Yes\" and datasetmod1['Clinican 3 '][i]==\"Yes\":\n",
        "    new.append('Yes')\n",
        "  elif datasetmod1['Clinican 1'][i]!=\"Yes\" and datasetmod1['Clinican 2'][i]==\"Yes\" and datasetmod1['Clinican 3 '][i]==\"Yes\":\n",
        "    new.append(\"Yes\")\n",
        "  else:\n",
        "    new.append('No')"
      ]
    },
    {
      "cell_type": "code",
      "execution_count": null,
      "metadata": {
        "colab": {
          "base_uri": "https://localhost:8080/"
        },
        "id": "IXwPnLZPJuZh",
        "outputId": "57c9ed19-2fab-4d24-8036-f10565c240b0"
      },
      "outputs": [
        {
          "output_type": "stream",
          "name": "stdout",
          "text": [
            "104 104\n"
          ]
        }
      ],
      "source": [
        "print(len(new),len(datasetmod1['Clinican 1']))"
      ]
    },
    {
      "cell_type": "code",
      "execution_count": null,
      "metadata": {
        "colab": {
          "base_uri": "https://localhost:8080/",
          "height": 206
        },
        "id": "Fm9m5gftAwBy",
        "outputId": "212507e9-0a88-432c-86ae-cbb2aff7065f"
      },
      "outputs": [
        {
          "output_type": "execute_result",
          "data": {
            "text/plain": [
              "   Haemoglobin  Palpebral Conjunctiva EI (LX5) Clinican 1 Clinican 2  \\\n",
              "0          121                          26.033         No         No   \n",
              "1          131                          20.077        Yes         No   \n",
              "2          134                          15.672        Yes         No   \n",
              "3           84                          19.757        Yes        Yes   \n",
              "4          110                          17.512         No         No   \n",
              "\n",
              "  Clinican 3  Final Diagnosis  \n",
              "0          No              No  \n",
              "1          No              No  \n",
              "2         Yes             Yes  \n",
              "3          No             Yes  \n",
              "4          No              No  "
            ],
            "text/html": [
              "\n",
              "  <div id=\"df-802fdfec-7b46-4068-bebf-b277efd42342\">\n",
              "    <div class=\"colab-df-container\">\n",
              "      <div>\n",
              "<style scoped>\n",
              "    .dataframe tbody tr th:only-of-type {\n",
              "        vertical-align: middle;\n",
              "    }\n",
              "\n",
              "    .dataframe tbody tr th {\n",
              "        vertical-align: top;\n",
              "    }\n",
              "\n",
              "    .dataframe thead th {\n",
              "        text-align: right;\n",
              "    }\n",
              "</style>\n",
              "<table border=\"1\" class=\"dataframe\">\n",
              "  <thead>\n",
              "    <tr style=\"text-align: right;\">\n",
              "      <th></th>\n",
              "      <th>Haemoglobin</th>\n",
              "      <th>Palpebral Conjunctiva EI (LX5)</th>\n",
              "      <th>Clinican 1</th>\n",
              "      <th>Clinican 2</th>\n",
              "      <th>Clinican 3</th>\n",
              "      <th>Final Diagnosis</th>\n",
              "    </tr>\n",
              "  </thead>\n",
              "  <tbody>\n",
              "    <tr>\n",
              "      <th>0</th>\n",
              "      <td>121</td>\n",
              "      <td>26.033</td>\n",
              "      <td>No</td>\n",
              "      <td>No</td>\n",
              "      <td>No</td>\n",
              "      <td>No</td>\n",
              "    </tr>\n",
              "    <tr>\n",
              "      <th>1</th>\n",
              "      <td>131</td>\n",
              "      <td>20.077</td>\n",
              "      <td>Yes</td>\n",
              "      <td>No</td>\n",
              "      <td>No</td>\n",
              "      <td>No</td>\n",
              "    </tr>\n",
              "    <tr>\n",
              "      <th>2</th>\n",
              "      <td>134</td>\n",
              "      <td>15.672</td>\n",
              "      <td>Yes</td>\n",
              "      <td>No</td>\n",
              "      <td>Yes</td>\n",
              "      <td>Yes</td>\n",
              "    </tr>\n",
              "    <tr>\n",
              "      <th>3</th>\n",
              "      <td>84</td>\n",
              "      <td>19.757</td>\n",
              "      <td>Yes</td>\n",
              "      <td>Yes</td>\n",
              "      <td>No</td>\n",
              "      <td>Yes</td>\n",
              "    </tr>\n",
              "    <tr>\n",
              "      <th>4</th>\n",
              "      <td>110</td>\n",
              "      <td>17.512</td>\n",
              "      <td>No</td>\n",
              "      <td>No</td>\n",
              "      <td>No</td>\n",
              "      <td>No</td>\n",
              "    </tr>\n",
              "  </tbody>\n",
              "</table>\n",
              "</div>\n",
              "      <button class=\"colab-df-convert\" onclick=\"convertToInteractive('df-802fdfec-7b46-4068-bebf-b277efd42342')\"\n",
              "              title=\"Convert this dataframe to an interactive table.\"\n",
              "              style=\"display:none;\">\n",
              "        \n",
              "  <svg xmlns=\"http://www.w3.org/2000/svg\" height=\"24px\"viewBox=\"0 0 24 24\"\n",
              "       width=\"24px\">\n",
              "    <path d=\"M0 0h24v24H0V0z\" fill=\"none\"/>\n",
              "    <path d=\"M18.56 5.44l.94 2.06.94-2.06 2.06-.94-2.06-.94-.94-2.06-.94 2.06-2.06.94zm-11 1L8.5 8.5l.94-2.06 2.06-.94-2.06-.94L8.5 2.5l-.94 2.06-2.06.94zm10 10l.94 2.06.94-2.06 2.06-.94-2.06-.94-.94-2.06-.94 2.06-2.06.94z\"/><path d=\"M17.41 7.96l-1.37-1.37c-.4-.4-.92-.59-1.43-.59-.52 0-1.04.2-1.43.59L10.3 9.45l-7.72 7.72c-.78.78-.78 2.05 0 2.83L4 21.41c.39.39.9.59 1.41.59.51 0 1.02-.2 1.41-.59l7.78-7.78 2.81-2.81c.8-.78.8-2.07 0-2.86zM5.41 20L4 18.59l7.72-7.72 1.47 1.35L5.41 20z\"/>\n",
              "  </svg>\n",
              "      </button>\n",
              "      \n",
              "  <style>\n",
              "    .colab-df-container {\n",
              "      display:flex;\n",
              "      flex-wrap:wrap;\n",
              "      gap: 12px;\n",
              "    }\n",
              "\n",
              "    .colab-df-convert {\n",
              "      background-color: #E8F0FE;\n",
              "      border: none;\n",
              "      border-radius: 50%;\n",
              "      cursor: pointer;\n",
              "      display: none;\n",
              "      fill: #1967D2;\n",
              "      height: 32px;\n",
              "      padding: 0 0 0 0;\n",
              "      width: 32px;\n",
              "    }\n",
              "\n",
              "    .colab-df-convert:hover {\n",
              "      background-color: #E2EBFA;\n",
              "      box-shadow: 0px 1px 2px rgba(60, 64, 67, 0.3), 0px 1px 3px 1px rgba(60, 64, 67, 0.15);\n",
              "      fill: #174EA6;\n",
              "    }\n",
              "\n",
              "    [theme=dark] .colab-df-convert {\n",
              "      background-color: #3B4455;\n",
              "      fill: #D2E3FC;\n",
              "    }\n",
              "\n",
              "    [theme=dark] .colab-df-convert:hover {\n",
              "      background-color: #434B5C;\n",
              "      box-shadow: 0px 1px 3px 1px rgba(0, 0, 0, 0.15);\n",
              "      filter: drop-shadow(0px 1px 2px rgba(0, 0, 0, 0.3));\n",
              "      fill: #FFFFFF;\n",
              "    }\n",
              "  </style>\n",
              "\n",
              "      <script>\n",
              "        const buttonEl =\n",
              "          document.querySelector('#df-802fdfec-7b46-4068-bebf-b277efd42342 button.colab-df-convert');\n",
              "        buttonEl.style.display =\n",
              "          google.colab.kernel.accessAllowed ? 'block' : 'none';\n",
              "\n",
              "        async function convertToInteractive(key) {\n",
              "          const element = document.querySelector('#df-802fdfec-7b46-4068-bebf-b277efd42342');\n",
              "          const dataTable =\n",
              "            await google.colab.kernel.invokeFunction('convertToInteractive',\n",
              "                                                     [key], {});\n",
              "          if (!dataTable) return;\n",
              "\n",
              "          const docLinkHtml = 'Like what you see? Visit the ' +\n",
              "            '<a target=\"_blank\" href=https://colab.research.google.com/notebooks/data_table.ipynb>data table notebook</a>'\n",
              "            + ' to learn more about interactive tables.';\n",
              "          element.innerHTML = '';\n",
              "          dataTable['output_type'] = 'display_data';\n",
              "          await google.colab.output.renderOutput(dataTable, element);\n",
              "          const docLink = document.createElement('div');\n",
              "          docLink.innerHTML = docLinkHtml;\n",
              "          element.appendChild(docLink);\n",
              "        }\n",
              "      </script>\n",
              "    </div>\n",
              "  </div>\n",
              "  "
            ]
          },
          "metadata": {},
          "execution_count": 11
        }
      ],
      "source": [
        "datasetmod1['Final Diagnosis']=new\n",
        "datasetmod1.head()"
      ]
    },
    {
      "cell_type": "code",
      "execution_count": null,
      "metadata": {
        "colab": {
          "base_uri": "https://localhost:8080/"
        },
        "id": "hsMWh3AEEHNc",
        "outputId": "ee49ec18-d2e8-46ef-f2f5-ca8eb797c660"
      },
      "outputs": [
        {
          "output_type": "stream",
          "name": "stdout",
          "text": [
            "[[121 26.033 'No' 'No' 'No']\n",
            " [131 20.077 'Yes' 'No' 'No']\n",
            " [134 15.672 'Yes' 'No' 'Yes']\n",
            " [84 19.757 'Yes' 'Yes' 'No']\n",
            " [110 17.512 'No' 'No' 'No']\n",
            " [123 20.424 'Yes' 'Yes' 'Yes']\n",
            " [99 16.308 'Yes' 'Yes' 'No']\n",
            " [79 12.479 'Yes' 'Yes' 'Yes']\n",
            " [82 18.129 'Yes' 'Yes' 'No']\n",
            " [122 13.688 'Yes' 'Yes' 'No']\n",
            " [107 20.689 'No' 'No' 'No']\n",
            " [93 20.424 'Yes' 'No' 'Yes']\n",
            " [161 18.054 'Yes' 'No' 'No']\n",
            " [121 26.033 'No' 'No' 'No']\n",
            " [141 20.731 'Yes' 'No' 'No']\n",
            " [114 22.448 'No' 'No' 'No']\n",
            " [119 19.689 'Yes' 'Yes' 'Yes']\n",
            " [96 17.894 'Yes' 'No' 'Yes']\n",
            " [137 19.694 'Yes' 'Yes' 'Yes']\n",
            " [125 14.78 'Yes' 'No' 'Yes']\n",
            " [105 10.422 'Yes' 'Yes' 'No']\n",
            " [121 20.923 'Yes' 'Yes' 'Yes']\n",
            " [158 18.294 'No' 'No' 'No']\n",
            " [116 23.638 'No' 'No' 'No']\n",
            " [127 22.836 'Yes' 'No' 'No']\n",
            " [141 21.686 'No' 'No' 'No']\n",
            " [80 15.318 'Yes' 'Yes' 'Yes']\n",
            " [149 23.577 'Yes' 'Yes' 'No']\n",
            " [117 19.827 'Yes' 'Yes' 'No']\n",
            " [107 16.149 'Yes' 'Yes' 'No']\n",
            " [126 12.072 'Yes' 'Yes' 'Yes']\n",
            " [105 17.404 'Yes' 'Yes' 'Yes']\n",
            " [114 22.448 'No' 'No' 'No']\n",
            " [131 24.091 'Yes' 'No' 'No']\n",
            " [133 27.222 'No' 'No' 'No']\n",
            " [110 21.115 'Yes' 'Yes' 'No']\n",
            " [117 21.786 'Yes' 'Yes' 'No']\n",
            " [131 26.558 'Yes' 'No' 'No']\n",
            " [106 17.901 'Yes' 'No' 'No']\n",
            " [80 15.318 'Yes' 'Yes' 'Yes']\n",
            " [86 15.804 'Yes' 'Yes' 'No']\n",
            " [151 21.833 'Yes' 'No' 'No']\n",
            " [125 23.66 'No' 'No' 'No']\n",
            " [116 22.337 'Yes' 'Yes' 'Yes']\n",
            " [130 19.89 'Yes' 'Yes' 'Yes']\n",
            " [143 24.123 'Yes' 'Yes' 'Yes']\n",
            " [91 12.709 'Yes' 'Yes' 'Yes']\n",
            " [69 11.777 'Yes' 'Yes' 'Yes']\n",
            " [135 19.092 'Yes' 'Yes' 'Yes']\n",
            " [122 22.35 'Yes' 'Yes' 'No']\n",
            " [107 18.778 'Yes' 'No' 'No']\n",
            " [137 21.492 'Yes' 'Yes' 'Yes']\n",
            " [109 19.977 'Yes' 'No' 'No']\n",
            " [115 19.494 'Yes' 'No' 'Yes']\n",
            " [146 22.88 'No' 'No' 'No']\n",
            " [91 14.404 'Yes' 'Yes' 'Yes']\n",
            " [125 18.639 'Yes' 'No' 'No']\n",
            " [111 18.219 'Yes' 'Yes' 'Yes']\n",
            " [92 18.332 'Yes' 'Yes' 'Yes']\n",
            " [127 18.946 'Yes' 'Yes' 'Yes']\n",
            " [105 18.905 'Yes' 'Yes' 'Yes']\n",
            " [106 15.667 'Yes' 'Yes' 'Yes']\n",
            " [137 21.166 'No' 'No' 'No']\n",
            " [91 16.427 'Yes' 'Yes' 'No']\n",
            " [95 17.378 'Yes' 'No' 'Yes']\n",
            " [116 19.917 'Yes' 'Yes' 'Yes']\n",
            " [95 13.265 'Yes' 'Yes' 'Yes']\n",
            " [117 20.395 'Yes' 'No' 'No']\n",
            " [130 19.89 'Yes' 'Yes' 'No']\n",
            " [76 20.305 'No' 'No' 'No']\n",
            " [131 24.091 'No' 'No' 'No']\n",
            " [110 19.861 'Yes' 'Yes' 'Yes']\n",
            " [138 14.357 'Yes' 'Yes' 'No']\n",
            " [119 18.16 'Yes' 'Yes' 'Yes']\n",
            " [104 21.373 'Yes' 'No' 'Yes']\n",
            " [132 21.689 'No' 'No' 'No']\n",
            " [97 17.724 'Yes' 'No' 'Yes']\n",
            " [70 12.367 'Yes' 'Yes' 'Yes']\n",
            " [109 19.977 'Yes' 'No' 'No']\n",
            " [127 18.946 'Yes' 'No' 'No']\n",
            " [94 11.363 'Yes' 'Yes' 'Yes']\n",
            " [115 20.688 'No' 'No' 'No']\n",
            " [91 16.427 'Yes' 'No' 'Yes']\n",
            " [110 21.778 'No' 'No' 'No']\n",
            " [132 24.143 'Yes' 'No' 'No']\n",
            " [122 20.237 'No' 'No' 'No']\n",
            " [126 22.139 'No' 'No' 'No']\n",
            " [96 19.16 'Yes' 'Yes' 'Yes']\n",
            " [111 17.773 'Yes' 'Yes' 'Yes']\n",
            " [88 12.577 'Yes' 'Yes' 'Yes']\n",
            " [84 17.004 'Yes' 'Yes' 'No']\n",
            " [98 25.48 'No' 'No' 'No']\n",
            " [99 15.576 'Yes' 'Yes' 'No']\n",
            " [132 21.689 'No' 'No' 'No']\n",
            " [86 13.476 'Yes' 'Yes' 'No']\n",
            " [88 13.684 'Yes' 'Yes' 'Yes']\n",
            " [125 16.546 'Yes' 'Yes' 'No']\n",
            " [114 16.891 'Yes' 'No' 'No']\n",
            " [122 22.35 'Yes' 'No' 'No']\n",
            " [110 20.606 'Yes' 'No' 'No']\n",
            " [111 18.004 'Yes' 'No' 'No']\n",
            " [83 11.957 'Yes' 'Yes' 'Yes']\n",
            " [140 20.868 'Yes' 'No' 'No']\n",
            " [66 17.579 'Yes' 'Yes' 'Yes']]\n"
          ]
        }
      ],
      "source": [
        "x= datasetmod1.iloc[:,:-1].values\n",
        "y= datasetmod1.iloc[:,3].values\n",
        "print(x)"
      ]
    },
    {
      "cell_type": "code",
      "execution_count": null,
      "metadata": {
        "id": "1B2wY559yDvk"
      },
      "outputs": [],
      "source": [
        "x_train, x_test, y_train, y_test= train_test_split(x, y, test_size= 0.2, random_state=0)"
      ]
    },
    {
      "cell_type": "code",
      "execution_count": null,
      "metadata": {
        "colab": {
          "base_uri": "https://localhost:8080/",
          "height": 383
        },
        "id": "6vwVPxy99EDp",
        "outputId": "97fa621f-0462-4929-edbd-c53c0385c993"
      },
      "outputs": [
        {
          "output_type": "display_data",
          "data": {
            "text/plain": [
              "<Figure size 432x288 with 1 Axes>"
            ],
            "image/png": "[encoded data removed]"
          },
          "metadata": {
            "needs_background": "light"
          }
        },
        {
          "output_type": "display_data",
          "data": {
            "text/plain": [
              "<Figure size 432x288 with 1 Axes>"
            ],
            "image/png": "[encoded data removed]"
          },
          "metadata": {
            "needs_background": "light"
          }
        },
        {
          "output_type": "stream",
          "name": "stdout",
          "text": [
            "[131.25460405  88.99217311  75.04235727]\n"
          ]
        }
      ],
      "source": [
        "import cv2\n",
        "from sklearn.cluster import KMeans\n",
        "import pandas as pd\n",
        "import matplotlib.pyplot as plt\n",
        "import seaborn as sns\n",
        "import sklearn\n",
        "from sklearn.cluster import KMeans\n",
        "from sklearn.metrics import silhouette_score\n",
        "import matplotlib.pyplot as plt\n",
        "from mpl_toolkits.mplot3d import Axes3D\n",
        "\n",
        "class DominantColors:\n",
        "\n",
        "    CLUSTERS = None\n",
        "    IMAGE = None\n",
        "    COLORS = None\n",
        "    LABELS = None\n",
        "    MAXFREQ = None\n",
        "\n",
        "    def __init__(self, image, clusters=3):\n",
        "        self.CLUSTERS = clusters\n",
        "        self.IMAGE = image\n",
        "\n",
        "    def dominantColors(self):\n",
        "        #img = cv2.imread(self.IMAGE)\n",
        "        img = cv2.cvtColor(self.IMAGE, cv2.COLOR_BGR2RGB)\n",
        "        img = img.reshape((img.shape[0] * img.shape[1], 3))\n",
        "        self.IMAGE = img\n",
        "        range_n_clusters = [2, 3, 4, 5, 6, 7, 8]\n",
        "        silhouette_avg = []\n",
        "        for num_clusters in range_n_clusters:\n",
        "\n",
        "        # initialise kmeans\n",
        "          kmeans = KMeans(n_clusters=num_clusters)\n",
        "          kmeans.fit(img)\n",
        "          cluster_labels = kmeans.labels_\n",
        "\n",
        "          # silhouette score\n",
        "          silhouette_avg.append(silhouette_score(img, cluster_labels))\n",
        "        #plt.plot(range_n_clusters,silhouette_avg,'r-')\n",
        "        #plt.xlabel('Values of K')\n",
        "        #plt.ylabel('Silhouette score')\n",
        "        #plt.title('Silhouette analysis For Optimal k')\n",
        "        #plt.show()\n",
        "        #k=2\n",
        "        k=range_n_clusters[silhouette_avg.index(max(silhouette_avg))]\n",
        "        self.CLUSTERS=k\n",
        "        kmeans = KMeans(n_clusters = k)\n",
        "        kmeans.fit(img)\n",
        "        self.COLORS = kmeans.cluster_centers_\n",
        "        self.LABELS = kmeans.labels_\n",
        "        self.calcmaxfreq()\n",
        "        return self.COLORS.astype(int)\n",
        "    def calcmaxfreq(self):\n",
        "        #labels form 0 to no. of clusters\n",
        "        numLabels = np.arange(0, self.CLUSTERS+1)\n",
        "\n",
        "        #create frequency count tables\n",
        "        (hist, _) = np.histogram(self.LABELS, bins = numLabels)\n",
        "        hist = hist.astype(\"float\")\n",
        "        hist /= hist.sum()\n",
        "\n",
        "        #appending frequencies to cluster centers\n",
        "        colors = self.COLORS\n",
        "        #descending order sorting as per frequency count\n",
        "        colors = colors[(-hist).argsort()]\n",
        "        hist = hist[(-hist).argsort()]\n",
        "        if colors[0].astype('int')[0] == 0 and colors[0].astype('int')[1] == 0 and colors[0].astype('int')[2] == 0:\n",
        "          self.MAXFREQ=colors[1]\n",
        "        else:\n",
        "          self.MAXFREQ=colors[0]\n",
        "    def plotHistogram(self):\n",
        "\n",
        "        #labels form 0 to no. of clusters\n",
        "        numLabels = np.arange(0, self.CLUSTERS+1)\n",
        "\n",
        "        #create frequency count tables\n",
        "        (hist, _) = np.histogram(self.LABELS, bins = numLabels)\n",
        "        hist = hist.astype(\"float\")\n",
        "        hist /= hist.sum()\n",
        "\n",
        "        #appending frequencies to cluster centers\n",
        "        colors = self.COLORS\n",
        "        #descending order sorting as per frequency count\n",
        "        colors = colors[(-hist).argsort()]\n",
        "        hist = hist[(-hist).argsort()]\n",
        "        #creating empty chart\n",
        "        chart = np.zeros((50, 500, 3), np.uint8)\n",
        "        start = 0\n",
        "        if colors[0].astype('int')[0] == 0 and colors[0].astype('int')[1] == 0 and colors[0].astype('int')[2] == 0:\n",
        "          self.MAXFREQ=colors[1]\n",
        "        else:\n",
        "          self.MAXFREQ=colors[0]\n",
        "        #creating color rectangles\n",
        "        for i in range(self.CLUSTERS):\n",
        "            end = start + hist[i] * 500\n",
        "\n",
        "            #getting rgb values\n",
        "            r = colors[i][0]\n",
        "            g = colors[i][1]\n",
        "            b = colors[i][2]\n",
        "\n",
        "            #using cv2.rectangle to plot colors\n",
        "            cv2.rectangle(chart, (int(start), 0), (int(end), 50), (r,g,b), -1)\n",
        "            start = end\n",
        "\n",
        "        #display chart\n",
        "        plt.figure()\n",
        "        plt.axis(\"off\")\n",
        "        plt.imshow(chart)\n",
        "        plt.show()\n",
        "    def rgb_to_hex(self, rgb):\n",
        "        return '#%02x%02x%02x' % (int(rgb[0]), int(rgb[1]), int(rgb[2]))\n",
        "\n",
        "    def plotClusters(self):\n",
        "        #plotting\n",
        "        fig = plt.figure()\n",
        "        ax = Axes3D(fig)\n",
        "        for label, pix in zip(self.LABELS, self.IMAGE):\n",
        "            ax.scatter(pix[0], pix[1], pix[2], color = self.rgb_to_hex(self.COLORS[label]))\n",
        "        plt.show()\n",
        "\n",
        "\n",
        "dc = DominantColors(myImg)\n",
        "colors = dc.dominantColors()\n",
        "dc.plotHistogram()\n",
        "dc.plotClusters()\n",
        "print(dc.MAXFREQ)\n"
      ]
    },
    {
      "cell_type": "code",
      "execution_count": null,
      "metadata": {
        "id": "PWjG73qoAFet"
      },
      "outputs": [],
      "source": [
        "tesx=[]\n",
        "tesx.append(dc.MAXFREQ)"
      ]
    },
    {
      "cell_type": "code",
      "execution_count": null,
      "metadata": {
        "colab": {
          "base_uri": "https://localhost:8080/",
          "height": 486
        },
        "id": "Fh3LRPGFtvYX",
        "outputId": "b4e5ec8d-58ed-42e3-e940-56313bb011b5"
      },
      "outputs": [
        {
          "output_type": "display_data",
          "data": {
            "text/plain": [
              "<PIL.Image.Image image mode=RGB size=67x69 at 0x7FB11F878250>"
            ],
            "image/png": "[encoded data removed]"
          },
          "metadata": {}
        },
        {
          "output_type": "display_data",
          "data": {
            "text/plain": [
              "<PIL.Image.Image image mode=RGB size=200x200 at 0x7FB11F878AD0>"
            ],
            "image/png": "[encoded data removed]"
          },
          "metadata": {}
        },
        {
          "output_type": "display_data",
          "data": {
            "text/plain": [
              "<PIL.Image.Image image mode=RGB size=200x200 at 0x7FB11F892110>"
            ],
            "image/png": "[encoded data removed]"
          },
          "metadata": {}
        }
      ],
      "source": [
        "from sklearn.preprocessing import normalize\n",
        "import math\n",
        "\n",
        "def conv(myImg):\n",
        "  tmp = cv2.cvtColor(myImg, cv2.COLOR_BGR2RGB)\n",
        "  img2=tmp[tmp!=[0,0,0]]\n",
        "  return img2\n",
        "def AdaptBrightness(image):\n",
        "  imagecp1=cv2.resize(image, (200,200), interpolation = cv2.INTER_AREA)\n",
        "  roi_l,roi_a,roi_b=cv2.split(cv2.cvtColor(imagecp1,cv2.COLOR_BGR2LAB))\n",
        "  m=np.amax(roi_l)\n",
        "  roi_l=roi_l.astype('float64')\n",
        "  roi_l/=m\n",
        "  mn=np.mean(roi_l)\n",
        "  imgraycpy=cv2.cvtColor(imagecp1, cv2.COLOR_BGR2GRAY)\n",
        "  graymean=0\n",
        "  tot=0\n",
        "  #cv2_imshow(imgraycpy)\n",
        "  for i in imgraycpy:\n",
        "    for j in i:\n",
        "      if j!=0:\n",
        "        graymean+=j\n",
        "        tot+=1\n",
        "  graymean/=tot\n",
        "  thr=math.log2(127.5)/math.log2(graymean)\n",
        "  for i in range(len(imagecp1)):\n",
        "    for j in range(len(imagecp1[0])):\n",
        "      if imagecp1[i][j][0]==0 and imagecp1[i][j][1]==0 and imagecp1[i][j][2]==0:\n",
        "        pass\n",
        "      else:\n",
        "        imagecp1[i][j]=imagecp1[i][j]**(1/thr)\n",
        "  return imagecp1\n",
        "i=myImg\n",
        "cv2_imshow(i)\n",
        "x=AdaptBrightness(myImg)\n",
        "\n",
        "cv2_imshow(x)\n",
        "cv2_imshow(cv2.cvtColor(x,cv2.COLOR_BGR2RGB))\n"
      ]
    },
    {
      "cell_type": "code",
      "execution_count": null,
      "metadata": {
        "id": "o8gJrWmA06t4"
      },
      "outputs": [],
      "source": [
        "def load_data(data_dir):\n",
        "  images=[]\n",
        "  dc=[]\n",
        "  anemic=[]\n",
        "  i=j=0\n",
        "  for pics in os.listdir(data_dir):\n",
        "    if pics[0:3]=='Non':\n",
        "      #if i==100:\n",
        "      #  continue\n",
        "      anemic.append(1)\n",
        "      #i+=1\n",
        "    else:\n",
        "      #if j==100:\n",
        "      #  continue\n",
        "      anemic.append(0)\n",
        "      #j+=1\n",
        "    print(i,j)\n",
        "    img=cv2.imread(os.path.join(data_dir,pics),1)\n",
        "    img=AdaptBrightness(img)\n",
        "    d = DominantColors(img)\n",
        "    clrs=d.dominantColors()\n",
        "    dc.append(d.MAXFREQ)\n",
        "    img=cv2.resize(img, (200,200), interpolation = cv2.INTER_AREA)\n",
        "    images.append(np.array(img))\n",
        "\n",
        "    #if i==100 and j==100:\n",
        "    #  break\n",
        "  return images,dc,anemic"
      ]
    },
    {
      "cell_type": "code",
      "execution_count": null,
      "metadata": {
        "colab": {
          "base_uri": "https://localhost:8080/"
        },
        "id": "NFa09bOZ2DvC",
        "outputId": "972da3c3-a80a-48a2-bf84-7335fb5e52a1"
      },
      "outputs": [
        {
          "output_type": "stream",
          "name": "stdout",
          "text": [
            "1 0\n",
            "2 0\n",
            "3 0\n",
            "4 0\n",
            "5 0\n",
            "6 0\n",
            "7 0\n",
            "8 0\n",
            "9 0\n",
            "10 0\n",
            "11 0\n",
            "12 0\n",
            "13 0\n",
            "14 0\n",
            "15 0\n",
            "16 0\n",
            "17 0\n",
            "18 0\n",
            "19 0\n",
            "20 0\n",
            "21 0\n",
            "22 0\n",
            "23 0\n",
            "24 0\n",
            "25 0\n",
            "26 0\n",
            "27 0\n",
            "28 0\n",
            "29 0\n",
            "30 0\n",
            "31 0\n",
            "32 0\n",
            "33 0\n",
            "34 0\n",
            "35 0\n",
            "36 0\n",
            "37 0\n",
            "38 0\n",
            "39 0\n",
            "40 0\n",
            "41 0\n",
            "42 0\n",
            "43 0\n",
            "44 0\n",
            "45 0\n",
            "46 0\n",
            "47 0\n",
            "48 0\n",
            "49 0\n",
            "50 0\n",
            "51 0\n",
            "52 0\n",
            "53 0\n",
            "54 0\n",
            "55 0\n",
            "56 0\n",
            "57 0\n",
            "58 0\n",
            "59 0\n",
            "60 0\n",
            "61 0\n",
            "62 0\n",
            "63 0\n",
            "64 0\n",
            "65 0\n",
            "66 0\n",
            "67 0\n",
            "68 0\n",
            "69 0\n",
            "70 0\n",
            "71 0\n",
            "72 0\n",
            "73 0\n",
            "74 0\n",
            "75 0\n",
            "76 0\n",
            "77 0\n",
            "78 0\n",
            "79 0\n",
            "80 0\n",
            "81 0\n",
            "82 0\n",
            "83 0\n",
            "84 0\n",
            "85 0\n",
            "86 0\n",
            "87 0\n",
            "88 0\n",
            "89 0\n",
            "90 0\n",
            "91 0\n",
            "92 0\n",
            "93 0\n",
            "94 0\n",
            "95 0\n",
            "96 0\n",
            "97 0\n",
            "98 0\n",
            "99 0\n",
            "100 0\n",
            "100 1\n",
            "100 2\n",
            "100 3\n",
            "100 4\n",
            "100 5\n",
            "100 6\n",
            "100 7\n",
            "100 8\n",
            "100 9\n",
            "100 10\n",
            "100 11\n",
            "100 12\n",
            "100 13\n",
            "100 14\n",
            "100 15\n",
            "100 16\n",
            "100 17\n",
            "100 18\n",
            "100 19\n",
            "100 20\n",
            "100 21\n",
            "100 22\n",
            "100 23\n",
            "100 24\n",
            "100 25\n",
            "100 26\n",
            "100 27\n",
            "100 28\n",
            "100 29\n",
            "100 30\n",
            "100 31\n",
            "100 32\n",
            "100 33\n",
            "100 34\n",
            "100 35\n",
            "100 36\n",
            "100 37\n",
            "100 38\n",
            "100 39\n",
            "100 40\n",
            "100 41\n",
            "100 42\n",
            "100 43\n",
            "100 44\n",
            "100 45\n",
            "100 46\n",
            "100 47\n",
            "100 48\n",
            "100 49\n",
            "100 50\n",
            "100 51\n",
            "100 52\n",
            "100 53\n",
            "100 54\n",
            "100 55\n",
            "100 56\n",
            "100 57\n",
            "100 58\n",
            "100 59\n",
            "100 60\n",
            "100 61\n",
            "100 62\n",
            "100 63\n",
            "100 64\n",
            "100 65\n",
            "100 66\n",
            "100 67\n",
            "100 68\n",
            "100 69\n",
            "100 70\n",
            "100 71\n",
            "100 72\n",
            "100 73\n",
            "100 74\n",
            "100 75\n",
            "100 76\n",
            "100 77\n",
            "100 78\n",
            "100 79\n",
            "100 80\n",
            "100 81\n",
            "100 82\n",
            "100 83\n",
            "100 84\n",
            "100 85\n",
            "100 86\n",
            "100 87\n",
            "100 88\n",
            "100 89\n",
            "100 90\n",
            "100 91\n",
            "100 92\n",
            "100 93\n",
            "100 94\n",
            "100 95\n",
            "100 96\n",
            "100 97\n",
            "100 98\n",
            "100 99\n",
            "100 100\n"
          ]
        }
      ],
      "source": [
        "imgs,dc,anemic=load_data(\"drive/MyDrive/Fingernails/Fingernails\")"
      ]
    },
    {
      "cell_type": "code",
      "execution_count": null,
      "metadata": {
        "id": "owmhD5xOfGo9",
        "colab": {
          "base_uri": "https://localhost:8080/"
        },
        "outputId": "a9c1bae7-88e2-468a-ccd2-4fe8927e5161"
      },
      "outputs": [
        {
          "output_type": "execute_result",
          "data": {
            "text/plain": [
              "[1,\n",
              " 1,\n",
              " 1,\n",
              " 1,\n",
              " 1,\n",
              " 1,\n",
              " 1,\n",
              " 1,\n",
              " 1,\n",
              " 1,\n",
              " 1,\n",
              " 1,\n",
              " 1,\n",
              " 1,\n",
              " 1,\n",
              " 1,\n",
              " 1,\n",
              " 1,\n",
              " 1,\n",
              " 1,\n",
              " 1,\n",
              " 1,\n",
              " 1,\n",
              " 1,\n",
              " 1,\n",
              " 1,\n",
              " 1,\n",
              " 1,\n",
              " 1,\n",
              " 1,\n",
              " 1,\n",
              " 1,\n",
              " 1,\n",
              " 1,\n",
              " 1,\n",
              " 1,\n",
              " 1,\n",
              " 1,\n",
              " 1,\n",
              " 1,\n",
              " 1,\n",
              " 1,\n",
              " 1,\n",
              " 1,\n",
              " 1,\n",
              " 1,\n",
              " 1,\n",
              " 1,\n",
              " 1,\n",
              " 1,\n",
              " 1,\n",
              " 1,\n",
              " 1,\n",
              " 1,\n",
              " 1,\n",
              " 1,\n",
              " 1,\n",
              " 1,\n",
              " 1,\n",
              " 1,\n",
              " 1,\n",
              " 1,\n",
              " 1,\n",
              " 1,\n",
              " 1,\n",
              " 1,\n",
              " 1,\n",
              " 1,\n",
              " 1,\n",
              " 1,\n",
              " 1,\n",
              " 1,\n",
              " 1,\n",
              " 1,\n",
              " 1,\n",
              " 1,\n",
              " 1,\n",
              " 1,\n",
              " 1,\n",
              " 1,\n",
              " 1,\n",
              " 1,\n",
              " 1,\n",
              " 1,\n",
              " 1,\n",
              " 1,\n",
              " 1,\n",
              " 1,\n",
              " 1,\n",
              " 1,\n",
              " 1,\n",
              " 1,\n",
              " 1,\n",
              " 1,\n",
              " 1,\n",
              " 1,\n",
              " 1,\n",
              " 1,\n",
              " 1,\n",
              " 1,\n",
              " 0,\n",
              " 0,\n",
              " 0,\n",
              " 0,\n",
              " 0,\n",
              " 0,\n",
              " 0,\n",
              " 0,\n",
              " 0,\n",
              " 0,\n",
              " 0,\n",
              " 0,\n",
              " 0,\n",
              " 0,\n",
              " 0,\n",
              " 0,\n",
              " 0,\n",
              " 0,\n",
              " 0,\n",
              " 0,\n",
              " 0,\n",
              " 0,\n",
              " 0,\n",
              " 0,\n",
              " 0,\n",
              " 0,\n",
              " 0,\n",
              " 0,\n",
              " 0,\n",
              " 0,\n",
              " 0,\n",
              " 0,\n",
              " 0,\n",
              " 0,\n",
              " 0,\n",
              " 0,\n",
              " 0,\n",
              " 0,\n",
              " 0,\n",
              " 0,\n",
              " 0,\n",
              " 0,\n",
              " 0,\n",
              " 0,\n",
              " 0,\n",
              " 0,\n",
              " 0,\n",
              " 0,\n",
              " 0,\n",
              " 0,\n",
              " 0,\n",
              " 0,\n",
              " 0,\n",
              " 0,\n",
              " 0,\n",
              " 0,\n",
              " 0,\n",
              " 0,\n",
              " 0,\n",
              " 0,\n",
              " 0,\n",
              " 0,\n",
              " 0,\n",
              " 0,\n",
              " 0,\n",
              " 0,\n",
              " 0,\n",
              " 0,\n",
              " 0,\n",
              " 0,\n",
              " 0,\n",
              " 0,\n",
              " 0,\n",
              " 0,\n",
              " 0,\n",
              " 0,\n",
              " 0,\n",
              " 0,\n",
              " 0,\n",
              " 0,\n",
              " 0,\n",
              " 0,\n",
              " 0,\n",
              " 0,\n",
              " 0,\n",
              " 0,\n",
              " 0,\n",
              " 0,\n",
              " 0,\n",
              " 0,\n",
              " 0,\n",
              " 0,\n",
              " 0,\n",
              " 0,\n",
              " 0,\n",
              " 0,\n",
              " 0,\n",
              " 0,\n",
              " 0,\n",
              " 0]"
            ]
          },
          "metadata": {},
          "execution_count": 19
        }
      ],
      "source": [
        "anemic"
      ]
    },
    {
      "cell_type": "code",
      "execution_count": null,
      "metadata": {
        "id": "nVNnOXWx5aOZ",
        "colab": {
          "base_uri": "https://localhost:8080/",
          "height": 279
        },
        "outputId": "11b849d2-fe7f-46e7-b2be-f13dd4f1d1ce"
      },
      "outputs": [
        {
          "output_type": "display_data",
          "data": {
            "text/plain": [
              "<Figure size 432x288 with 1 Axes>"
            ],
            "image/png": "[encoded data removed]"
          },
          "metadata": {
            "needs_background": "light"
          }
        }
      ],
      "source": [
        "x1=[datasetmod1['Haemoglobin'][i] for i in range(len(datasetmod1)) if datasetmod1['Final Diagnosis'][i]==\"Yes\"]\n",
        "y1=[datasetmod1['Palpebral Conjunctiva EI (LX5)'][i] for i in range(len(datasetmod1)) if datasetmod1['Final Diagnosis'][i]==\"Yes\"]\n",
        "x2=[datasetmod1['Haemoglobin'][i] for i in range(len(datasetmod1)) if datasetmod1['Final Diagnosis'][i]==\"No\"]\n",
        "y2=[datasetmod1['Palpebral Conjunctiva EI (LX5)'][i] for i in range(len(datasetmod1)) if datasetmod1['Final Diagnosis'][i]==\"No\"]\n",
        "plt.scatter(x1, y1, c =\"pink\",\n",
        "            linewidths = 2,\n",
        "            marker =\"s\",\n",
        "            edgecolor =\"green\",\n",
        "            s = 50)\n",
        "\n",
        "plt.scatter(x2, y2, c =\"yellow\",\n",
        "            linewidths = 2,\n",
        "            marker =\"^\",\n",
        "            edgecolor =\"red\",\n",
        "            s = 200)\n",
        "\n",
        "plt.xlabel(\"X-axis\")\n",
        "plt.ylabel(\"Y-axis\")\n",
        "plt.show()"
      ]
    },
    {
      "cell_type": "code",
      "execution_count": null,
      "metadata": {
        "id": "IXoWPiT06MHB",
        "colab": {
          "base_uri": "https://localhost:8080/"
        },
        "outputId": "5187c341-67aa-47e9-9282-782250c8e543"
      },
      "outputs": [
        {
          "output_type": "stream",
          "name": "stdout",
          "text": [
            "[134, 84, 123, 99, 79, 82, 122, 93, 119, 96, 137, 125, 105, 121, 80, 149, 117, 107, 126, 105, 110, 117, 80, 86, 116, 130, 143, 91, 69, 135, 122, 137, 115, 91, 111, 92, 127, 105, 106, 91, 95, 116, 95, 130, 110, 138, 119, 104, 97, 70, 94, 91, 96, 111, 88, 84, 99, 86, 88, 125, 83, 66]\n"
          ]
        }
      ],
      "source": [
        "x1=[datasetmod1['Haemoglobin'][i] for i in range(len(datasetmod1)) if datasetmod1['Final Diagnosis'][i]==\"Yes\"]\n",
        "print(x1)"
      ]
    },
    {
      "cell_type": "code",
      "execution_count": null,
      "metadata": {
        "id": "Ru-9Nbjj-TN1",
        "colab": {
          "base_uri": "https://localhost:8080/",
          "height": 319
        },
        "outputId": "cb9a3975-ee0c-48df-f919-707cfe624524"
      },
      "outputs": [
        {
          "output_type": "display_data",
          "data": {
            "text/plain": [
              "<Figure size 432x288 with 1 Axes>"
            ],
            "image/png": "[encoded data removed]"
          },
          "metadata": {
            "needs_background": "light"
          }
        }
      ],
      "source": [
        "import numpy as np\n",
        "import matplotlib.pyplot as plt\n",
        "\n",
        "from mpl_toolkits import mplot3d\n",
        "fig = plt.figure()\n",
        "ax = Axes3D(fig)\n",
        "dc1=dc[0:100]\n",
        "dc2=dc[100:200]\n",
        "for i in dc1:\n",
        "  ax.scatter3D(i[0],i[1],i[2],marker='+',c='b')\n",
        "for i in dc2:\n",
        "  ax.scatter3D(i[0],i[1],i[2],c='r')\n",
        "plt.show()"
      ]
    },
    {
      "cell_type": "code",
      "execution_count": null,
      "metadata": {
        "id": "X_LVCmyEAi7T",
        "colab": {
          "base_uri": "https://localhost:8080/"
        },
        "outputId": "677c11ad-9cf0-4177-dc01-d9c234fe84ad"
      },
      "outputs": [
        {
          "output_type": "stream",
          "name": "stdout",
          "text": [
            "[0.9984123905987745, 0.7951069416102412, 7.366389314093418e-22, 0.999997756136113, 0.01389183532222083, 0.9968676111117072, 0.009182144438098191, 0.9581953094249008, 0.8339381562143517, 0.9996404192023709, 0.9889921118716604, 0.9998623587166588, 0.9998156956621567, 0.9999987801687905, 0.9997149296347351, 0.9999623827052724, 0.3146553737903066, 4.297438842345306e-21, 0.5283067539094037, 0.9976597418404026, 6.792875387130083e-22, 2.93362582447006e-22, 0.9810635704814527, 0.7635372082091235, 0.9999990433184035, 0.85504780451316, 2.1658743216557603e-19, 1.0339061150313795e-18, 0.9996342515458531, 0.7296792883029244, 0.691033879175871, 0.9537580076426623, 6.612190995858677e-22, 0.9611907790361057, 0.9999915103493706, 0.8736112202081624, 1.4187910440006654e-22, 0.9976705839845404, 0.9985251854972432, 0.46863512373055527, 0.8956898190134489, 0.9957537051063726, 0.9608941727893081, 0.9968670773265292, 0.999990226261347, 0.9997873156034764, 4.524009410595715e-23, 0.9479044088768831, 6.242850221019593e-17, 0.8079286386835488, 0.704484655356868, 0.9120955519161478, 0.9999475805742374, 0.9999831359662221, 1.2790037413782954e-21, 0.6508631122703588, 0.9557144785599313, 0.9999940666920739, 6.369136175205199e-25, 0.9993887518456966, 0.9967326592641216, 0.9993611607395323, 0.9999623027772138, 4.1252953488794087e-23, 0.05481443565125322, 0.9667126322235129, 0.999926983776667, 0.9995373300022876, 0.971489647839608, 3.1863047457020485e-23, 0.9646398533065961, 0.9987207059649732, 0.9996212356606055, 0.980786774059783, 0.9998683842835355, 0.6001885389492853, 0.9940909654903743, 0.9988372599053694, 0.9996775476652542, 0.9845349838195959, 0.9999952894434777, 0.9999370060924632, 0.9999745143175882, 6.966934203462563e-22, 0.998394202689274, 0.9949830921839337, 0.988228257386431, 0.6276040205545426, 0.990692523227726, 0.9996513168773192, 0.9966669117902621, 0.9967387846419173, 0.9347001317511436, 0.9779615668169155, 0.9837653256862862, 0.9997841793300345, 0.9585101580310558, 0.9691408908015552, 1.7398067634299395e-22, 0.998789470857121, 0.9999992907633388, 0.553947446077528, 0.002946984655767136, 0.9999992981234951, 0.553947446077528, 0.0029437227438858468, 0.035092471108708105, 0.00607762959606217, 0.44800550313688303, 0.30466780136066657, 0.30466780136066657, 0.9999994953759185, 0.9999999958932587, 0.2869684871652455, 0.9999999958932587, 0.448030060949546, 0.4885343429625721, 0.0029581177425650287, 0.9999992981234951, 0.48853025710090714, 0.6276620783397927, 0.05509924122422971, 0.7668419798091863, 0.2869684871652455, 0.0549668746279041, 0.002956430627868712, 0.6276620783397927, 0.6562258538174663, 0.15435054535449141, 0.00607762959606217, 0.15464302560421997, 0.9999994953759185, 0.6562258538174663, 0.7668419798091863, 0.9999992898125084, 0.035086470683456515, 6.185054425051092e-22, 0.7991346162848163, 0.1300330415154041, 0.8707117601290271, 0.7055617091344261, 0.9999987210042025, 0.18181209953701227, 0.009158307175389622, 0.7703665250639726, 0.7665789794416543, 5.352022424051343e-22, 0.009171583435822419, 0.7387395640047187, 5.352022424051381e-22, 0.1799440982976651, 0.9972916412101371, 0.7665789794416543, 0.7266700639474751, 0.7991346162848163, 0.0031936343893558716, 0.7388985906356474, 0.8711545872131787, 0.9972916412101371, 5.352022424051381e-22, 0.8711706395480683, 0.26342525850996196, 0.06723036933774197, 0.2622876033618419, 0.9863145880034773, 0.4114102863710259, 0.8765724050887788, 0.9619412724779854, 0.9619412724779854, 0.8765724050887788, 0.9863145880034773, 0.8707117601290271, 0.7266752222996218, 0.0031936343893558716, 0.7055617091344261, 0.06722984104601837, 0.7703665250639726, 0.9903767801452233, 5.352022424051343e-22, 0.4114102863710259, 6.185054425051092e-22, 0.9999987210042025, 0.9903767801452233, 0.1300330415154041, 0.9998068727896392, 0.9996109391554643, 0.9996837800337722, 0.9509012973007116, 0.9998132592858717, 0.9996109980820664, 0.9508980393096936, 0.9998068727896392, 0.9998132592858717, 0.9996836671382401, 0.9996836671382401, 0.9996834584334633, 0.9999005989774048, 0.4640586177002294, 0.9977067867918156, 0.9892975942059155]\n",
            "[0, 0, 1, 0, 1, 0, 1, 0, 0, 0, 0, 0, 0, 0, 0, 0, 0, 1, 0, 0, 1, 1, 0, 0, 0, 0, 1, 1, 0, 0, 0, 0, 1, 0, 0, 0, 1, 0, 0, 0, 0, 0, 0, 0, 0, 0, 1, 0, 1, 0, 0, 0, 0, 0, 1, 0, 0, 0, 1, 0, 0, 0, 0, 1, 1, 0, 0, 0, 0, 1, 0, 0, 0, 0, 0, 0, 0, 0, 0, 0, 0, 0, 0, 1, 0, 0, 0, 0, 0, 0, 0, 0, 0, 0, 0, 0, 0, 0, 1, 0, 0, 0, 1, 0, 0, 1, 1, 1, 0, 0, 0, 0, 0, 0, 0, 0, 0, 1, 0, 0, 0, 1, 0, 0, 1, 1, 0, 0, 1, 1, 1, 0, 0, 0, 0, 1, 1, 0, 1, 0, 0, 0, 1, 1, 0, 0, 1, 1, 0, 1, 1, 0, 0, 0, 0, 1, 0, 0, 0, 1, 0, 0, 1, 0, 0, 0, 0, 0, 0, 0, 0, 0, 0, 1, 0, 1, 0, 0, 1, 0, 1, 0, 0, 1, 0, 0, 0, 0, 0, 0, 0, 0, 0, 0, 0, 0, 0, 0, 0, 0]\n"
          ]
        },
        {
          "output_type": "execute_result",
          "data": {
            "text/plain": [
              "array([[72, 28],\n",
              "       [81, 19]])"
            ]
          },
          "metadata": {},
          "execution_count": 53
        }
      ],
      "source": [
        "import math\n",
        "HB=[]\n",
        "for i in dc:\n",
        "  x=-1.922+.206*i[0]-.241*i[1]+.012*i[2]\n",
        "  HB.append((math.exp(x))/(1+math.exp(x)))\n",
        "\n",
        "print(HB)\n",
        "calcy=[1 if x<=.2 else 0 for x in HB]\n",
        "print(calcy)\n",
        "metrics.confusion_matrix(anemic, calcy)"
      ]
    },
    {
      "cell_type": "code",
      "execution_count": null,
      "metadata": {
        "id": "QPRs2qAQ28WO",
        "colab": {
          "base_uri": "https://localhost:8080/"
        },
        "outputId": "420601ac-ef42-47dc-fbf5-3acad3f08922"
      },
      "outputs": [
        {
          "output_type": "execute_result",
          "data": {
            "text/plain": [
              "array([1, 0, 1, 1, 0, 1, 0, 1, 1, 1, 0, 1, 1, 1, 1, 1, 1, 1, 0, 1, 1, 1,\n",
              "       1, 0, 1, 1, 1, 1, 1, 1, 1, 1, 1, 1, 1, 1, 1, 1, 1, 0, 1, 1, 1, 1,\n",
              "       1, 1, 1, 1, 1, 0, 1, 1, 1, 1, 1, 1, 1, 1, 1, 1, 1, 1, 1, 1, 0, 1,\n",
              "       1, 1, 0, 1, 1, 0, 1, 1, 1, 0, 1, 1, 1, 1, 1, 1, 1, 1, 1, 1, 1, 1,\n",
              "       1, 1, 1, 1, 1, 1, 1, 1, 1, 1, 0, 1, 0, 0, 0, 0, 0, 0, 0, 0, 0, 0,\n",
              "       0, 0, 0, 0, 0, 0, 0, 0, 0, 0, 0, 0, 0, 0, 0, 0, 0, 0, 0, 0, 0, 0,\n",
              "       0, 0, 0, 0, 0, 0, 0, 0, 1, 0, 0, 0, 0, 1, 0, 0, 0, 0, 0, 1, 1, 1,\n",
              "       0, 0, 0, 0, 1, 0, 0, 0, 0, 0, 1, 0, 1, 0, 0, 1, 1, 0, 1, 0, 1, 0,\n",
              "       0, 0, 0, 0, 0, 0, 0, 0, 0, 1, 0, 0, 0, 1, 0, 0, 0, 0, 0, 0, 0, 0,\n",
              "       1, 1])"
            ]
          },
          "metadata": {},
          "execution_count": 25
        }
      ],
      "source": [
        "from sklearn.neural_network import MLPClassifier\n",
        "from sklearn.datasets import make_classification\n",
        "from sklearn.model_selection import train_test_split\n",
        "import pandas as pd\n",
        "import numpy\n",
        "dc1=numpy.array(dc).T\n",
        "df = pd.DataFrame(dc, columns = ['R','G','B'])\n",
        "clf = MLPClassifier(hidden_layer_sizes=(150,100,50), max_iter=300,activation = 'relu',solver='adam',random_state=1).fit(df,anemic)\n",
        "mlpanemia=clf.predict(df)\n",
        "mlpanemia"
      ]
    },
    {
      "cell_type": "code",
      "execution_count": null,
      "metadata": {
        "id": "7DvMmAevEpEA",
        "colab": {
          "base_uri": "https://localhost:8080/",
          "height": 348
        },
        "outputId": "bc0907f5-db55-4ede-df25-533cbca7e326"
      },
      "outputs": [
        {
          "output_type": "stream",
          "name": "stdout",
          "text": [
            "Accuracy: 0.855\n",
            "Precision Score: 0.8446601941747572\n",
            "Recall Score: 0.87\n",
            "F1 Score: 0.8571428571428571\n"
          ]
        },
        {
          "output_type": "display_data",
          "data": {
            "text/plain": [
              "<Figure size 432x288 with 2 Axes>"
            ],
            "image/png": "[encoded data removed]"
          },
          "metadata": {
            "needs_background": "light"
          }
        }
      ],
      "source": [
        "import matplotlib.pyplot as plt\n",
        "import numpy\n",
        "from sklearn import metrics\n",
        "\n",
        "actual = numpy.random.binomial(1,.9,size = 1000)\n",
        "predicted = numpy.random.binomial(1,.9,size = 1000)\n",
        "\n",
        "confusion_matrix = metrics.confusion_matrix(anemic, mlpanemia)\n",
        "\n",
        "cm_display = metrics.ConfusionMatrixDisplay(confusion_matrix = confusion_matrix, display_labels = [\"Non-Anemic\", \"Anemic\"])\n",
        "print(\"Accuracy:\",metrics.accuracy_score(anemic,mlpanemia))\n",
        "## Precision\n",
        "print(\"Precision Score:\",metrics.precision_score(anemic,mlpanemia))\n",
        "## Recall\n",
        "print(\"Recall Score:\",metrics.recall_score(anemic,mlpanemia))\n",
        "## F1 Score\n",
        "print(\"F1 Score:\",metrics.f1_score(anemic,mlpanemia))\n",
        "cm_display.plot()\n",
        "plt.show()"
      ]
    },
    {
      "cell_type": "code",
      "execution_count": null,
      "metadata": {
        "id": "7ByyYGdjFLNW",
        "colab": {
          "base_uri": "https://localhost:8080/",
          "height": 349
        },
        "outputId": "f8b34d4b-9445-4764-9803-e32c235ee837"
      },
      "outputs": [
        {
          "output_type": "stream",
          "name": "stdout",
          "text": [
            "Accuracy: 0.485\n",
            "Precision Score: 0.4634146341463415\n",
            "Recall Score: 0.19\n",
            "F1 Score: 0.2695035460992908\n"
          ]
        },
        {
          "output_type": "display_data",
          "data": {
            "text/plain": [
              "<Figure size 432x288 with 2 Axes>"
            ],
            "image/png": "[encoded data removed]"
          },
          "metadata": {
            "needs_background": "light"
          }
        }
      ],
      "source": [
        "import matplotlib.pyplot as plt\n",
        "import numpy\n",
        "from sklearn import metrics\n",
        "\n",
        "actual = numpy.random.binomial(1,.9,size = 1000)\n",
        "predicted = numpy.random.binomial(1,.9,size = 1000)\n",
        "\n",
        "confusion_matrix = metrics.confusion_matrix(anemic, calcy)\n",
        "\n",
        "cm_display = metrics.ConfusionMatrixDisplay(confusion_matrix = confusion_matrix, display_labels = [\"Non-Anemic\", \"Anemic\"])\n",
        "print(\"Accuracy:\",metrics.accuracy_score(anemic,calcy))\n",
        "## Precision\n",
        "print(\"Precision Score:\",metrics.precision_score(anemic,calcy))\n",
        "## Recall\n",
        "print(\"Recall Score:\",metrics.recall_score(anemic,calcy))\n",
        "## F1 Score\n",
        "print(\"F1 Score:\",metrics.f1_score(anemic,calcy))\n",
        "cm_display.plot()\n",
        "plt.show()"
      ]
    },
    {
      "cell_type": "code",
      "source": [
        "from sklearn.metrics import roc_curve,roc_auc_score\n",
        "def plot_roc_curve(true_y, y_prob):\n",
        "    \"\"\"\n",
        "    plots the roc curve based of the probabilities\n",
        "    \"\"\"\n",
        "\n",
        "    fpr, tpr, thresholds = roc_curve(true_y, y_prob)\n",
        "    plt.plot(fpr, tpr)\n",
        "    plt.xlabel('False Positive Rate')\n",
        "    plt.ylabel('True Positive Rate')\n",
        "plot_roc_curve(anemic, mlpanemia)\n",
        "print(f'model 1 AUC score: {roc_auc_score(anemic, mlpanemia)}')"
      ],
      "metadata": {
        "colab": {
          "base_uri": "https://localhost:8080/",
          "height": 296
        },
        "id": "AESTTpIyDd5d",
        "outputId": "15991a43-63d1-42f4-e513-a45dda046464"
      },
      "execution_count": null,
      "outputs": [
        {
          "output_type": "stream",
          "name": "stdout",
          "text": [
            "model 1 AUC score: 0.855\n"
          ]
        },
        {
          "output_type": "display_data",
          "data": {
            "text/plain": [
              "<Figure size 432x288 with 1 Axes>"
            ],
            "image/png": "[encoded data removed]"
          },
          "metadata": {
            "needs_background": "light"
          }
        }
      ]
    },
    {
      "cell_type": "code",
      "source": [
        "from sklearn.neural_network import MLPClassifier\n",
        "from sklearn.datasets import make_classification\n",
        "from sklearn.model_selection import train_test_split\n",
        "import pandas as pd\n",
        "import numpy\n",
        "dc1=numpy.array(dc).T\n",
        "df1 = pd.DataFrame(dc, columns = ['R','G','B'])\n",
        "X_train, X_test, y_train, y_test = train_test_split(df1, anemic, train_size=0.6)\n",
        "clf1 = MLPClassifier(hidden_layer_sizes=(150,100,50), max_iter=300,activation = 'relu',solver='adam',random_state=1).fit(X_train,y_train)\n",
        "mlpanemia1=clf1.predict(df)\n",
        "mlpanemia\n"
      ],
      "metadata": {
        "colab": {
          "base_uri": "https://localhost:8080/"
        },
        "id": "0CdB0g8mFI1c",
        "outputId": "b967a68d-43f8-4806-f4f8-4d2b615d668c"
      },
      "execution_count": null,
      "outputs": [
        {
          "output_type": "stream",
          "name": "stderr",
          "text": [
            "/usr/local/lib/python3.7/dist-packages/sklearn/neural_network/_multilayer_perceptron.py:696: ConvergenceWarning: Stochastic Optimizer: Maximum iterations (300) reached and the optimization hasn't converged yet.\n",
            "  ConvergenceWarning,\n"
          ]
        },
        {
          "output_type": "execute_result",
          "data": {
            "text/plain": [
              "array([1, 0, 1, 1, 0, 1, 0, 1, 1, 1, 0, 1, 1, 1, 1, 1, 1, 1, 0, 1, 1, 1,\n",
              "       1, 0, 1, 1, 1, 1, 1, 1, 1, 1, 1, 1, 1, 1, 1, 1, 1, 0, 1, 1, 1, 1,\n",
              "       1, 1, 1, 1, 1, 0, 1, 1, 1, 1, 1, 1, 1, 1, 1, 1, 1, 1, 1, 1, 0, 1,\n",
              "       1, 1, 0, 1, 1, 0, 1, 1, 1, 0, 1, 1, 1, 1, 1, 1, 1, 1, 1, 1, 1, 1,\n",
              "       1, 1, 1, 1, 1, 1, 1, 1, 1, 1, 0, 1, 0, 0, 0, 0, 0, 0, 0, 0, 0, 0,\n",
              "       0, 0, 0, 0, 0, 0, 0, 0, 0, 0, 0, 0, 0, 0, 0, 0, 0, 0, 0, 0, 0, 0,\n",
              "       0, 0, 0, 0, 0, 0, 0, 0, 1, 0, 0, 0, 0, 1, 0, 0, 0, 0, 0, 1, 1, 1,\n",
              "       0, 0, 0, 0, 1, 0, 0, 0, 0, 0, 1, 0, 1, 0, 0, 1, 1, 0, 1, 0, 1, 0,\n",
              "       0, 0, 0, 0, 0, 0, 0, 0, 0, 1, 0, 0, 0, 1, 0, 0, 0, 0, 0, 0, 0, 0,\n",
              "       1, 1])"
            ]
          },
          "metadata": {},
          "execution_count": 57
        }
      ]
    },
    {
      "cell_type": "code",
      "source": [
        "ypred=clf1.predict(X_test)\n",
        "import matplotlib.pyplot as plt\n",
        "import numpy\n",
        "from sklearn import metrics\n",
        "\n",
        "actual = numpy.random.binomial(1,.9,size = 1000)\n",
        "predicted = numpy.random.binomial(1,.9,size = 1000)\n",
        "\n",
        "confusion_matrix = metrics.confusion_matrix(y_test, ypred)\n",
        "\n",
        "cm_display = metrics.ConfusionMatrixDisplay(confusion_matrix = confusion_matrix, display_labels = [\"Non-Anemic\", \"Anemic\"])\n",
        "print(\"Accuracy:\",metrics.accuracy_score(y_test, ypred))\n",
        "## Precision\n",
        "print(\"Precision Score:\",metrics.precision_score(y_test, ypred))\n",
        "## Recall\n",
        "print(\"Recall Score:\",metrics.recall_score(y_test, ypred))\n",
        "## F1 Score\n",
        "print(\"F1 Score:\",metrics.f1_score(y_test, ypred))\n",
        "cm_display.plot()\n",
        "plt.show()"
      ],
      "metadata": {
        "colab": {
          "base_uri": "https://localhost:8080/",
          "height": 348
        },
        "id": "Kn9xOVQjGjW2",
        "outputId": "b3c43065-b6e0-4bc6-ce2d-873d13931849"
      },
      "execution_count": null,
      "outputs": [
        {
          "output_type": "stream",
          "name": "stdout",
          "text": [
            "Accuracy: 0.825\n",
            "Precision Score: 0.8918918918918919\n",
            "Recall Score: 0.7674418604651163\n",
            "F1 Score: 0.825\n"
          ]
        },
        {
          "output_type": "display_data",
          "data": {
            "text/plain": [
              "<Figure size 432x288 with 2 Axes>"
            ],
            "image/png": "[encoded data removed]"
          },
          "metadata": {
            "needs_background": "light"
          }
        }
      ]
    },
    {
      "cell_type": "code",
      "source": [
        "ypred=clf1.predict(X_test)\n",
        "import matplotlib.pyplot as plt\n",
        "import numpy\n",
        "from sklearn import metrics\n",
        "\n",
        "actual = numpy.random.binomial(1,.9,size = 1000)\n",
        "predicted = numpy.random.binomial(1,.9,size = 1000)\n",
        "\n",
        "confusion_matrix = metrics.confusion_matrix(y_test, ypred)\n",
        "\n",
        "cm_display = metrics.ConfusionMatrixDisplay(confusion_matrix = confusion_matrix, display_labels = [\"Non-Anemic\", \"Anemic\"])\n",
        "print(\"Accuracy:\",metrics.accuracy_score(y_test, ypred))\n",
        "## Precision\n",
        "print(\"Precision Score:\",metrics.precision_score(y_test, ypred))\n",
        "## Recall\n",
        "print(\"Recall Score:\",metrics.recall_score(y_test, ypred))\n",
        "## F1 Score\n",
        "print(\"F1 Score:\",metrics.f1_score(y_test, ypred))\n",
        "cm_display.plot()\n",
        "plt.show()"
      ],
      "metadata": {
        "colab": {
          "base_uri": "https://localhost:8080/",
          "height": 235
        },
        "id": "JK4pC5dVjRnR",
        "outputId": "9b934dd4-db13-4477-8a45-479af4b1465a"
      },
      "execution_count": null,
      "outputs": [
        {
          "output_type": "error",
          "ename": "NameError",
          "evalue": "ignored",
          "traceback": [
            "\u001b[0;31m---------------------------------------------------------------------------\u001b[0m",
            "\u001b[0;31mNameError\u001b[0m                                 Traceback (most recent call last)",
            "\u001b[0;32m<ipython-input-1-108f3a49e15a>\u001b[0m in \u001b[0;36m<module>\u001b[0;34m\u001b[0m\n\u001b[0;32m----> 1\u001b[0;31m \u001b[0mypred\u001b[0m\u001b[0;34m=\u001b[0m\u001b[0mclf1\u001b[0m\u001b[0;34m.\u001b[0m\u001b[0mpredict\u001b[0m\u001b[0;34m(\u001b[0m\u001b[0mX_test\u001b[0m\u001b[0;34m)\u001b[0m\u001b[0;34m\u001b[0m\u001b[0;34m\u001b[0m\u001b[0m\n\u001b[0m\u001b[1;32m      2\u001b[0m \u001b[0;32mimport\u001b[0m \u001b[0mmatplotlib\u001b[0m\u001b[0;34m.\u001b[0m\u001b[0mpyplot\u001b[0m \u001b[0;32mas\u001b[0m \u001b[0mplt\u001b[0m\u001b[0;34m\u001b[0m\u001b[0;34m\u001b[0m\u001b[0m\n\u001b[1;32m      3\u001b[0m \u001b[0;32mimport\u001b[0m \u001b[0mnumpy\u001b[0m\u001b[0;34m\u001b[0m\u001b[0;34m\u001b[0m\u001b[0m\n\u001b[1;32m      4\u001b[0m \u001b[0;32mfrom\u001b[0m \u001b[0msklearn\u001b[0m \u001b[0;32mimport\u001b[0m \u001b[0mmetrics\u001b[0m\u001b[0;34m\u001b[0m\u001b[0;34m\u001b[0m\u001b[0m\n\u001b[1;32m      5\u001b[0m \u001b[0;34m\u001b[0m\u001b[0m\n",
            "\u001b[0;31mNameError\u001b[0m: name 'clf1' is not defined"
          ]
        }
      ]
    }
  ],
  "metadata": {
    "colab": {
      "provenance": [],
      "include_colab_link": true
    },
    "gpuClass": "standard",
    "kernelspec": {
      "display_name": "Python 3",
      "name": "python3"
    },
    "language_info": {
      "name": "python"
    }
  },
  "nbformat": 4,
  "nbformat_minor": 0
}